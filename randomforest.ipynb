{
 "cells": [
  {
   "cell_type": "code",
   "execution_count": 1,
   "metadata": {},
   "outputs": [],
   "source": [
    "using DecisionTree\n",
    "using Random, Distributions\n",
    "using CSV, DataFrames\n",
    "using Images"
   ]
  },
  {
   "cell_type": "code",
   "execution_count": 2,
   "metadata": {},
   "outputs": [
    {
     "data": {
      "text/plain": [
       "([51.17379 0.8048641 … 1.7563983 2.7926148; 105.73519 1.2347435 … 0.5424858 3.187708; … ; 35.32099 1.0224737 … 9.323136 19.640076; 101.697914 0.79622513 … 0.042001974 0.392673574], [0.0, 0.0, 0.0, 1.0, 1.0, 1.0, 1.0, 0.0, 1.0, 1.0  …  0.0, 0.0, 1.0, 0.0, 0.0, 1.0, 1.0, 0.0, 1.0, 0.0])"
      ]
     },
     "metadata": {},
     "output_type": "display_data"
    }
   ],
   "source": [
    "# Data Preparation\n",
    "\n",
    "rawDataFrame = CSV.read(\"DataCutP1.csv\", DataFrame)\n",
    "paramsNum = ncol(rawDataFrame)\n",
    "xyRaw = Matrix(rawDataFrame)\n",
    "\n",
    "function splitMatrix(mat, perc)\n",
    "    @assert 0 <= perc <= 1\n",
    "    ids = collect(axes(mat, 1))\n",
    "    shuffle!(ids)\n",
    "    sel = ids .<= size(mat, 1) .* perc\n",
    "    return view(mat, sel, :), view(mat, .!sel, :)\n",
    "end\n",
    "\n",
    "xyTrain, xyTest = splitMatrix(xyRaw, 0.5)\n",
    "xTrain, yTrain = xyTrain[:, 1:(paramsNum - 1)], xyTrain[:, paramsNum]\n",
    "xTest, yTest = xyTest[:, 1:(paramsNum - 1)], xyTest[:, paramsNum]"
   ]
  },
  {
   "cell_type": "code",
   "execution_count": 4,
   "metadata": {},
   "outputs": [
    {
     "name": "stdout",
     "output_type": "stream",
     "text": [
      "import MLJDecisionTreeInterface ✔\n"
     ]
    },
    {
     "name": "stderr",
     "output_type": "stream",
     "text": [
      "┌ Info: For silent loading, specify `verbosity=0`. \n",
      "└ @ Main C:\\Users\\LENOVO\\.julia\\packages\\MLJModels\\ziReN\\src\\loading.jl:159\n",
      "┌ Warning: The number and/or types of data arguments do not match what the specified model\n",
      "│ supports. Suppress this type check by specifying `scitype_check_level=0`.\n",
      "│ \n",
      "│ Run `@doc DecisionTree.RandomForestClassifier` to learn more about your model's requirements.\n",
      "│ \n",
      "│ Commonly, but non exclusively, supervised models are constructed using the syntax\n",
      "│ `machine(model, X, y)` or `machine(model, X, y, w)` while most other models are\n",
      "│ constructed with `machine(model, X)`.  Here `X` are features, `y` a target, and `w`\n",
      "│ sample or class weights.\n",
      "│ \n",
      "│ In general, data in `machine(model, data...)` is expected to satisfy\n",
      "│ \n",
      "│     scitype(data) <: MLJ.fit_data_scitype(model)\n",
      "│ \n",
      "│ In the present case:\n",
      "│ \n",
      "│ scitype(data) = Tuple{AbstractMatrix{ScientificTypesBase.Continuous}, AbstractVector{ScientificTypesBase.Continuous}}\n",
      "│ \n",
      "│ fit_data_scitype(model) = Tuple{Table{<:Union{AbstractVector{<:ScientificTypesBase.Continuous}, AbstractVector{<:Count}, AbstractVector{<:OrderedFactor}}}, AbstractVector{<:Finite}}\n",
      "└ @ MLJBase C:\\Users\\LENOVO\\.julia\\packages\\MLJBase\\QyZZM\\src\\machines.jl:237\n"
     ]
    },
    {
     "ename": "ArgumentError",
     "evalue": "ArgumentError: a 'Matrix{Float64}' is not a table; see `?Tables.table` for ways to treat an AbstractVecOrMat as a table",
     "output_type": "error",
     "traceback": [
      "ArgumentError: a 'Matrix{Float64}' is not a table; see `?Tables.table` for ways to treat an AbstractVecOrMat as a table\n",
      "\n",
      "Stacktrace:\n",
      "  [1] columns(m::Matrix{Float64})\n",
      "    @ Tables C:\\Users\\LENOVO\\.julia\\packages\\Tables\\NSGZI\\src\\matrix.jl:6\n",
      "  [2] Tables.Columns(x::Matrix{Float64})\n",
      "    @ Tables C:\\Users\\LENOVO\\.julia\\packages\\Tables\\NSGZI\\src\\Tables.jl:271\n",
      "  [3] matrix(table::Matrix{Float64}; transpose::Bool)\n",
      "    @ Tables C:\\Users\\LENOVO\\.julia\\packages\\Tables\\NSGZI\\src\\matrix.jl:85\n",
      "  [4] matrix(table::Matrix{Float64})\n",
      "    @ Tables C:\\Users\\LENOVO\\.julia\\packages\\Tables\\NSGZI\\src\\matrix.jl:84\n",
      "  [5] reformat(::MLJDecisionTreeInterface.RandomForestClassifier, X::Matrix{Float64}, y::Vector{Float64})\n",
      "    @ MLJDecisionTreeInterface C:\\Users\\LENOVO\\.julia\\packages\\MLJDecisionTreeInterface\\CXTSl\\src\\MLJDecisionTreeInterface.jl:461\n",
      "  [6] fit_only!(mach::Machine{MLJDecisionTreeInterface.RandomForestClassifier, MLJDecisionTreeInterface.RandomForestClassifier, true}; rows::Nothing, verbosity::Int64, force::Bool, composite::Nothing)\n",
      "    @ MLJBase C:\\Users\\LENOVO\\.julia\\packages\\MLJBase\\QyZZM\\src\\machines.jl:670\n",
      "  [7] fit_only!\n",
      "    @ C:\\Users\\LENOVO\\.julia\\packages\\MLJBase\\QyZZM\\src\\machines.jl:617 [inlined]\n",
      "  [8] #fit!#63\n",
      "    @ C:\\Users\\LENOVO\\.julia\\packages\\MLJBase\\QyZZM\\src\\machines.jl:789 [inlined]\n",
      "  [9] fit!(mach::Machine{MLJDecisionTreeInterface.RandomForestClassifier, MLJDecisionTreeInterface.RandomForestClassifier, true})\n",
      "    @ MLJBase C:\\Users\\LENOVO\\.julia\\packages\\MLJBase\\QyZZM\\src\\machines.jl:786\n",
      " [10] top-level scope\n",
      "    @ c:\\Users\\LENOVO\\Documents\\GitHub\\Elevator\\FoCal-ElectronPhotonIdentification\\randomforest.ipynb:6"
     ]
    }
   ],
   "source": [
    "using MLJ\n",
    "Forest = @load RandomForestClassifier pkg=DecisionTree\n",
    "forest = Forest(min_samples_split=6, n_subfeatures=3)\n",
    "\n",
    "mach = machine(forest, xTrain, yTrain)\n",
    "MLJ.fit!(mach)\n"
   ]
  }
 ],
 "metadata": {
  "kernelspec": {
   "display_name": "Julia 1.10.1",
   "language": "julia",
   "name": "julia-1.10"
  },
  "language_info": {
   "file_extension": ".jl",
   "mimetype": "application/julia",
   "name": "julia",
   "version": "1.10.1"
  }
 },
 "nbformat": 4,
 "nbformat_minor": 2
}
