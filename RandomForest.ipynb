{
 "cells": [
  {
   "cell_type": "code",
   "execution_count": 2,
   "metadata": {},
   "outputs": [
    {
     "ename": "ArgumentError",
     "evalue": "ArgumentError: Package DecisionTree not found in current path.\n- Run `import Pkg; Pkg.add(\"DecisionTree\")` to install the DecisionTree package.",
     "output_type": "error",
     "traceback": [
      "ArgumentError: Package DecisionTree not found in current path.\n",
      "- Run `import Pkg; Pkg.add(\"DecisionTree\")` to install the DecisionTree package.\n",
      "\n",
      "Stacktrace:\n",
      "  [1] macro expansion\n",
      "    @ ./loading.jl:1772 [inlined]\n",
      "  [2] macro expansion\n",
      "    @ ./lock.jl:267 [inlined]\n",
      "  [3] __require(into::Module, mod::Symbol)\n",
      "    @ Base ./loading.jl:1753\n",
      "  [4] #invoke_in_world#3\n",
      "    @ ./essentials.jl:926 [inlined]\n",
      "  [5] invoke_in_world\n",
      "    @ ./essentials.jl:923 [inlined]\n",
      "  [6] require(into::Module, mod::Symbol)\n",
      "    @ Base ./loading.jl:1746\n",
      "  [7] eval\n",
      "    @ ./boot.jl:385 [inlined]\n",
      "  [8] include_string(mapexpr::typeof(REPL.softscope), mod::Module, code::String, filename::String)\n",
      "    @ Base ./loading.jl:2076\n",
      "  [9] #invokelatest#2\n",
      "    @ ./essentials.jl:892 [inlined]\n",
      " [10] invokelatest\n",
      "    @ ./essentials.jl:889 [inlined]\n",
      " [11] (::VSCodeServer.var\"#219#220\"{VSCodeServer.NotebookRunCellArguments, String})()\n",
      "    @ VSCodeServer ~/.vscode/extensions/julialang.language-julia-1.79.2/scripts/packages/VSCodeServer/src/serve_notebook.jl:19\n",
      " [12] withpath(f::VSCodeServer.var\"#219#220\"{VSCodeServer.NotebookRunCellArguments, String}, path::String)\n",
      "    @ VSCodeServer ~/.vscode/extensions/julialang.language-julia-1.79.2/scripts/packages/VSCodeServer/src/repl.jl:276\n",
      " [13] notebook_runcell_request(conn::VSCodeServer.JSONRPC.JSONRPCEndpoint{Base.PipeEndpoint, Base.PipeEndpoint}, params::VSCodeServer.NotebookRunCellArguments)\n",
      "    @ VSCodeServer ~/.vscode/extensions/julialang.language-julia-1.79.2/scripts/packages/VSCodeServer/src/serve_notebook.jl:13\n",
      " [14] dispatch_msg(x::VSCodeServer.JSONRPC.JSONRPCEndpoint{Base.PipeEndpoint, Base.PipeEndpoint}, dispatcher::VSCodeServer.JSONRPC.MsgDispatcher, msg::Dict{String, Any})\n",
      "    @ VSCodeServer.JSONRPC ~/.vscode/extensions/julialang.language-julia-1.79.2/scripts/packages/JSONRPC/src/typed.jl:67\n",
      " [15] serve_notebook(pipename::String, outputchannel_logger::Base.CoreLogging.SimpleLogger; crashreporting_pipename::String)\n",
      "    @ VSCodeServer ~/.vscode/extensions/julialang.language-julia-1.79.2/scripts/packages/VSCodeServer/src/serve_notebook.jl:139\n",
      " [16] top-level scope\n",
      "    @ ~/.vscode/extensions/julialang.language-julia-1.79.2/scripts/notebook/notebook.jl:35"
     ]
    }
   ],
   "source": [
    "using DecisionTree\n",
    "using Random, Distributions\n",
    "using CSV, DataFrames\n",
    "using Images"
   ]
  },
  {
   "cell_type": "code",
   "execution_count": 1,
   "metadata": {},
   "outputs": [
    {
     "ename": "UndefVarError",
     "evalue": "UndefVarError: `CSV` not defined",
     "output_type": "error",
     "traceback": [
      "UndefVarError: `CSV` not defined\n",
      "\n",
      "Stacktrace:\n",
      " [1] top-level scope\n",
      "   @ ~/Documents/Workspace/FoCal-ElectronPhotonIdentification/randomforest.ipynb:3"
     ]
    }
   ],
   "source": [
    "# Data Preparation\n",
    "\n",
    "rawDataFrame = CSV.read(\"DataCutP1.csv\", DataFrame)\n",
    "paramsNum = ncol(rawDataFrame)\n",
    "xyRaw = Matrix(rawDataFrame)\n",
    "\n",
    "function splitMatrix(mat, perc)\n",
    "    @assert 0 <= perc <= 1\n",
    "    ids = collect(axes(mat, 1))\n",
    "    shuffle!(ids)\n",
    "    sel = ids .<= size(mat, 1) .* perc\n",
    "    return view(mat, sel, :), view(mat, .!sel, :)\n",
    "end\n",
    "\n",
    "function splitDataFrame(dat, perc)\n",
    "    @assert 0 <= perc <= 1\n",
    "    ids = collect(axes(dat, 1))\n",
    "    shuffle!(ids)\n",
    "    sel = ids .<= ncols(dat, 1) .* perc\n",
    "    return view(dat, sel, :), view(dat, .!sel, :)\n",
    "end\n",
    "\n",
    "xyTrain, xyTest = splitMatrix(xyRaw, 0.5)\n",
    "xTrain, yTrain = xyTrain[:, 1:(paramsNum - 1)], xyTrain[:, paramsNum]\n",
    "xTest, yTest = xyTest[:, 1:(paramsNum - 1)], xyTest[:, paramsNum]"
   ]
  },
  {
   "cell_type": "code",
   "execution_count": 4,
   "metadata": {},
   "outputs": [
    {
     "name": "stdout",
     "output_type": "stream",
     "text": [
      "import MLJDecisionTreeInterface ✔\n"
     ]
    },
    {
     "name": "stderr",
     "output_type": "stream",
     "text": [
      "┌ Info: For silent loading, specify `verbosity=0`. \n",
      "└ @ Main C:\\Users\\LENOVO\\.julia\\packages\\MLJModels\\ziReN\\src\\loading.jl:159\n",
      "┌ Warning: The number and/or types of data arguments do not match what the specified model\n",
      "│ supports. Suppress this type check by specifying `scitype_check_level=0`.\n",
      "│ \n",
      "│ Run `@doc DecisionTree.RandomForestClassifier` to learn more about your model's requirements.\n",
      "│ \n",
      "│ Commonly, but non exclusively, supervised models are constructed using the syntax\n",
      "│ `machine(model, X, y)` or `machine(model, X, y, w)` while most other models are\n",
      "│ constructed with `machine(model, X)`.  Here `X` are features, `y` a target, and `w`\n",
      "│ sample or class weights.\n",
      "│ \n",
      "│ In general, data in `machine(model, data...)` is expected to satisfy\n",
      "│ \n",
      "│     scitype(data) <: MLJ.fit_data_scitype(model)\n",
      "│ \n",
      "│ In the present case:\n",
      "│ \n",
      "│ scitype(data) = Tuple{AbstractMatrix{ScientificTypesBase.Continuous}, AbstractVector{ScientificTypesBase.Continuous}}\n",
      "│ \n",
      "│ fit_data_scitype(model) = Tuple{Table{<:Union{AbstractVector{<:ScientificTypesBase.Continuous}, AbstractVector{<:Count}, AbstractVector{<:OrderedFactor}}}, AbstractVector{<:Finite}}\n",
      "└ @ MLJBase C:\\Users\\LENOVO\\.julia\\packages\\MLJBase\\QyZZM\\src\\machines.jl:237\n"
     ]
    },
    {
     "ename": "ArgumentError",
     "evalue": "ArgumentError: a 'Matrix{Float64}' is not a table; see `?Tables.table` for ways to treat an AbstractVecOrMat as a table",
     "output_type": "error",
     "traceback": [
      "ArgumentError: a 'Matrix{Float64}' is not a table; see `?Tables.table` for ways to treat an AbstractVecOrMat as a table\n",
      "\n",
      "Stacktrace:\n",
      "  [1] columns(m::Matrix{Float64})\n",
      "    @ Tables C:\\Users\\LENOVO\\.julia\\packages\\Tables\\NSGZI\\src\\matrix.jl:6\n",
      "  [2] Tables.Columns(x::Matrix{Float64})\n",
      "    @ Tables C:\\Users\\LENOVO\\.julia\\packages\\Tables\\NSGZI\\src\\Tables.jl:271\n",
      "  [3] matrix(table::Matrix{Float64}; transpose::Bool)\n",
      "    @ Tables C:\\Users\\LENOVO\\.julia\\packages\\Tables\\NSGZI\\src\\matrix.jl:85\n",
      "  [4] matrix(table::Matrix{Float64})\n",
      "    @ Tables C:\\Users\\LENOVO\\.julia\\packages\\Tables\\NSGZI\\src\\matrix.jl:84\n",
      "  [5] reformat(::MLJDecisionTreeInterface.RandomForestClassifier, X::Matrix{Float64}, y::Vector{Float64})\n",
      "    @ MLJDecisionTreeInterface C:\\Users\\LENOVO\\.julia\\packages\\MLJDecisionTreeInterface\\CXTSl\\src\\MLJDecisionTreeInterface.jl:461\n",
      "  [6] fit_only!(mach::Machine{MLJDecisionTreeInterface.RandomForestClassifier, MLJDecisionTreeInterface.RandomForestClassifier, true}; rows::Nothing, verbosity::Int64, force::Bool, composite::Nothing)\n",
      "    @ MLJBase C:\\Users\\LENOVO\\.julia\\packages\\MLJBase\\QyZZM\\src\\machines.jl:670\n",
      "  [7] fit_only!\n",
      "    @ C:\\Users\\LENOVO\\.julia\\packages\\MLJBase\\QyZZM\\src\\machines.jl:617 [inlined]\n",
      "  [8] #fit!#63\n",
      "    @ C:\\Users\\LENOVO\\.julia\\packages\\MLJBase\\QyZZM\\src\\machines.jl:789 [inlined]\n",
      "  [9] fit!(mach::Machine{MLJDecisionTreeInterface.RandomForestClassifier, MLJDecisionTreeInterface.RandomForestClassifier, true})\n",
      "    @ MLJBase C:\\Users\\LENOVO\\.julia\\packages\\MLJBase\\QyZZM\\src\\machines.jl:786\n",
      " [10] top-level scope\n",
      "    @ c:\\Users\\LENOVO\\Documents\\GitHub\\Elevator\\FoCal-ElectronPhotonIdentification\\randomforest.ipynb:6"
     ]
    }
   ],
   "source": [
    "using MLJ\n",
    "Forest = @load RandomForestClassifier pkg=DecisionTree\n",
    "forest = Forest(min_samples_split=6, n_subfeatures=3)\n",
    "\n",
    "mach = machine(forest, xTrain, yTrain)\n",
    "MLJ.fit!(mach)\n"
   ]
  }
 ],
 "metadata": {
  "kernelspec": {
   "display_name": "Julia 1.10.4",
   "language": "julia",
   "name": "julia-1.10"
  },
  "language_info": {
   "file_extension": ".jl",
   "mimetype": "application/julia",
   "name": "julia",
   "version": "1.10.4"
  }
 },
 "nbformat": 4,
 "nbformat_minor": 2
}
